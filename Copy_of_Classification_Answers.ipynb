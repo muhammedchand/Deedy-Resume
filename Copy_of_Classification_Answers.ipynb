{
  "nbformat": 4,
  "nbformat_minor": 0,
  "metadata": {
    "kernelspec": {
      "display_name": "Python 3",
      "language": "python",
      "name": "python3"
    },
    "language_info": {
      "codemirror_mode": {
        "name": "ipython",
        "version": 3
      },
      "file_extension": ".py",
      "mimetype": "text/x-python",
      "name": "python",
      "nbconvert_exporter": "python",
      "pygments_lexer": "ipython3",
      "version": "3.6.9"
    },
    "colab": {
      "name": "Copy of Classification Answers.ipynb",
      "provenance": [],
      "collapsed_sections": [
        "X8Ih10zlfzyf"
      ],
      "include_colab_link": true
    }
  },
  "cells": [
    {
      "cell_type": "markdown",
      "metadata": {
        "id": "view-in-github",
        "colab_type": "text"
      },
      "source": [
        "<a href=\"https://colab.research.google.com/github/muhammedchand/Deedy-Resume/blob/master/Copy_of_Classification_Answers.ipynb\" target=\"_parent\"><img src=\"https://colab.research.google.com/assets/colab-badge.svg\" alt=\"Open In Colab\"/></a>"
      ]
    },
    {
      "cell_type": "code",
      "metadata": {
        "id": "Pll_Y-z-fzwM",
        "colab_type": "code",
        "colab": {}
      },
      "source": [
        "import numpy as np\n",
        "from matplotlib import pyplot as plt #plotting library (lets us draw graphs)\n",
        "%matplotlib inline\n",
        "from sklearn import datasets #the datasets from sklearn\n",
        "#classification libraries\n",
        "from sklearn import neighbors\n",
        "from sklearn import svm\n",
        "from sklearn import naive_bayes\n",
        "from sklearn import tree\n",
        "from sklearn import ensemble\n",
        "from sklearn import linear_model\n",
        "from sklearn.model_selection import cross_val_score\n",
        "\n",
        "#synthetic nutrition dataset\n",
        "zscore = np.array([0.5,0.3,-0.4,0.1,1.1,-0.1,0.9,-1.2,0.6,0.6,-1.0,0.1,1.2,0.4,-0.9,-0.2,-0.6,0.4,-0.7,0.1,0.1,0.2,-0.6,-1.0,1.4,-1.4,-0.0,0.6,0.0,-1.2,-0.3,-0.4,-1.2,-1.1,0.4,-0.1,1.1,-1.0,0.3,-1.1,1.2,-0.0,0.7,-0.4,1.0,-0.3,-0.5,0.1,-0.3,-0.5,-0.4,1.8,2.4,-0.6,0.0,-0.9,-1.0,0.4,2.7,-1.6,0.5,-0.3,0.2,-0.3,-0.2,-1.9,0.9,-0.5,-0.5,-1.0,1.2,-0.5,-3.0,-0.8,-2.2,-0.4,1.3,0.2,-0.6,0.1,1.2,1.1,0.0,0.4,0.7,1.0,-1.3,-0.6,-0.4,1.3,0.7,-1.0,0.4,0.3,-0.1,-1.4,1.5,0.3,1.4,-0.5,-0.8,0.7,-0.2,-0.1,-1.3,0.1,-0.4,1.0,-0.4,-0.1,1.7,0.4,-1.2,0.5,-1.0,-1.1,-1.1,-0.9,-0.8,0.9,-0.8,-0.1,-1.8,-0.3,-1.7,-0.7,-0.8,-0.6,0.2,0.3,-0.5,1.0,0.3,0.5,-1.4,0.6,0.8,0.1,-0.2,-0.1,0.9,0.4,-0.8,0.4,0.6,-0.7,1.1,-0.3,-0.3,-2.0,1.8,1.5,-1.5,0.2,0.3,2.1,0.3,-0.1,0.3,0.8,1.1,-0.1,0.8,-0.8,-0.6,0.8,-0.7,-1.5,-0.3,-0.4,1.1,0.2,0.3,-0.0,-1.1,0.1,0.1,-0.3,1.1,0.4,2.5,-1.5,0.2,1.0,-0.5,-0.2,0.0,-0.7,-1.6,-1.2,0.6,-0.2,0.4,-0.2,1.1,0.7,0.4,-0.3,-0.8,0.8])\n",
        "muac = np.array([90.3,109.9,112.2,117.0,108.4,109.7,110.5,93.8,85.0,112.4,104.7,104.0,112.1,103.1,107.1,100.1,108.7,104.7,85.9,105.4,100.0,107.1,114.1,97.9,107.5,95.1,108.0,113.5,103.8,90.3,113.2,80.1,81.0,75.6,92.5,92.0,113.1,100.9,105.8,64.5,108.6,97.8,107.9,96.2,113.8,103.8,90.4,92.1,93.8,88.6,115.3,129.0,132.4,89.6,96.1,101.6,83.3,105.9,123.1,89.6,90.6,100.7,86.9,123.6,105.9,102.7,113.1,106.1,103.0,93.1,119.4,83.5,70.5,82.1,76.8,97.3,102.1,103.7,107.4,99.1,104.1,119.7,95.9,97.4,102.3,111.5,94.2,84.5,89.4,118.3,111.4,78.4,94.1,108.1,97.8,71.0,121.4,100.7,107.2,91.9,91.1,106.7,104.9,98.7,102.6,91.2,96.0,108.3,89.8,108.1,105.1,109.6,94.3,106.7,79.7,75.6,89.8,98.9,90.5,93.9,101.5,94.0,60.1,109.2,103.6,87.7,95.9,78.6,101.7,83.2,87.4,97.1,102.4,114.6,78.5,102.2,108.2,107.4,96.0,105.7,99.3,104.5,84.3,108.8,108.7,104.4,115.5,91.2,94.5,91.0,127.5,122.9,70.1,99.9,113.3,117.3,99.7,102.4,90.1,122.7,104.3,103.4,116.7,86.1,94.5,112.2,88.0,82.4,98.5,107.0,104.2,92.8,107.2,97.9,65.9,89.9,86.1,111.2,112.9,82.9,128.4,82.4,105.3,107.4,74.0,104.1,92.5,98.2,84.6,76.3,111.3,101.5,111.3,100.0,104.6,117.4,99.7,114.2,108.9,121.9])\n",
        "cough = np.array([False,True,True,False,True,True,True,False,False,False,False,True,False,False,True,False,False,True,False,False,True,False,False,False,True,False,False,False,False,True,True,False,False,False,True,False,False,False,True,False,False,True,True,False,False,False,False,True,True,True,False,False,False,False,False,False,True,True,False,True,False,True,False,False,False,False,True,False,False,True,False,True,False,True,False,False,False,False,False,True,True,True,False,True,False,False,False,True,False,True,False,True,False,False,True,True,False,True,True,False,True,False,False,False,False,False,True,False,True,False,True,True,False,True,False,False,True,False,True,True,True,False,False,False,False,True,False,True,True,False,False,False,True,False,False,False,False,True,True,False,False,False,True,True,False,False,True,False,False,False,False,False,True,True,True,True,False,True,False,False,True,True,True,False,False,False,False,False,False,False,False,True,True,False,False,False,True,False,True,False,False,False,False,True,False,True,False,True,False,True,True,False,True,False,False,True,True,False,True,False])\n",
        "outpatient = np.array([True,False,False,True,False,False,False,False,True,True,False,False,True,True,False,True,True,False,False,True,False,True,True,False,True,False,True,True,True,False,False,False,False,False,False,False,True,False,False,False,True,False,False,False,True,True,False,False,False,False,True,True,True,False,True,False,False,False,True,False,True,False,False,True,True,False,False,False,True,False,True,False,False,False,False,False,True,True,True,False,False,True,True,False,True,True,False,False,False,True,True,False,True,True,False,False,True,False,True,False,False,True,True,True,False,True,False,True,False,True,True,False,False,False,False,False,False,False,False,False,False,True,False,True,False,False,False,False,False,True,False,True,False,True,False,True,True,False,False,True,True,True,False,False,True,False,True,True,False,False,True,True,False,False,False,True,True,False,True,True,False,False,False,False,False,True,False,False,True,True,True,False,False,True,False,True,False,True,True,True,True,False,True,False,False,False,True,False,False,False,False,True,False,True,True,False,False,True,False,True])"
      ],
      "execution_count": null,
      "outputs": []
    },
    {
      "cell_type": "markdown",
      "metadata": {
        "id": "4gfduIOufzwe",
        "colab_type": "text"
      },
      "source": [
        "# Classification\n",
        "## Quick Detour, Nearest Neighbours\n",
        "\n",
        "Before we use Scikit Learn (a library for doing machine learning), we'll quickly look at how we might write a nearest neighbour classifier by hand.\n",
        "\n",
        "We concern ourselves with three arrays, the children's z-scores, their MUAC values and whether or not they are ok to just be treated as an outpatient. (so False = 'not ok, needs to be an inpatient', True = 'outpatient')\n",
        "\n",
        "We will use all but the last child to 'train' the nearest neighbour, and the last child to test it."
      ]
    },
    {
      "cell_type": "code",
      "metadata": {
        "id": "_ABAVCJ1fzwg",
        "colab_type": "code",
        "colab": {
          "base_uri": "https://localhost:8080/",
          "height": 388
        },
        "outputId": "421c7b8a-110c-4ecc-bb04-da609ce6063f"
      },
      "source": [
        "plt.figure(figsize=[8,6])\n",
        "plt.scatter(zscore[outpatient],muac[outpatient],20,'b',label=\"Outpatient\")\n",
        "plt.scatter(zscore[~outpatient],muac[~outpatient],20,'g',label=\"Inpatient\")\n",
        "plt.xlabel('Z score')\n",
        "plt.ylabel('MUAC / cm')\n",
        "plt.legend();"
      ],
      "execution_count": null,
      "outputs": [
        {
          "output_type": "display_data",
          "data": {
            "image/png": "[encoded data removed]",
            "text/plain": [
              "<Figure size 576x432 with 1 Axes>"
            ]
          },
          "metadata": {
            "tags": [],
            "needs_background": "light"
          }
        }
      ]
    },
    {
      "cell_type": "markdown",
      "metadata": {
        "id": "mzHXCcr4fzwx",
        "colab_type": "text"
      },
      "source": [
        "Nearest neighbour simply involves calculating the **distance** from the test point, to all the training points. We can find the distance of a point $x_1, y_1$ from $x_2, y_2$ by using pythagoras: \n",
        "$$\\mathtt{distance} = \\sqrt{ (x_1-x_2)^2 + (y_1-y_2)^2}$$\n",
        "\n",
        "We can get the test point (the last point in the lists):"
      ]
    },
    {
      "cell_type": "code",
      "metadata": {
        "id": "KWy_v1vZfzwz",
        "colab_type": "code",
        "colab": {}
      },
      "source": [
        "test_zscore = zscore[-1] #in python the -1 index means the end of the list\n",
        "test_muac = muac[-1]\n",
        "test_outpatient = outpatient[-1]"
      ],
      "execution_count": null,
      "outputs": []
    },
    {
      "cell_type": "markdown",
      "metadata": {
        "id": "ZBWKWWBwfzw8",
        "colab_type": "text"
      },
      "source": [
        "We need to loop through all the training inputs, and find the distance from each to the test point: We want to find the training point that's got the smallest distance to the test point."
      ]
    },
    {
      "cell_type": "code",
      "metadata": {
        "id": "HafySIJvfzw-",
        "colab_type": "code",
        "colab": {
          "base_uri": "https://localhost:8080/",
          "height": 53
        },
        "outputId": "67d89123-1625-4913-da91-c0bf96e1fdc3"
      },
      "source": [
        "smallest_distance = np.infty #this variable remembers the smallest distance that we've seen so far.\n",
        "result = np.NAN #this variable remembers the associated label for that training point.\n",
        "\n",
        "for child_zscore, child_muac, child_outpatient in zip(zscore[:-1],muac[:-1],outpatient[:-1]): #this means we loop through all but the last child\n",
        "    distance = np.sqrt((child_zscore - test_zscore)**2 + (child_muac - test_muac)**2) #get distance from test to muac\n",
        "    if distance<smallest_distance: #if it's the smallest distance we've seen, use it.\n",
        "        smallest_distance = distance #we update the smallest distance with this one\n",
        "        result = child_outpatient  #we make a note of the label of this training point\n",
        "        \n",
        "print(\"The algorithm predicts that the test point has a label: '%s'\" % result)\n",
        "print(\"The test point actually has label: '%s'\" % test_outpatient)"
      ],
      "execution_count": null,
      "outputs": [
        {
          "output_type": "stream",
          "text": [
            "The algorithm predicts that the test point has a label: 'True'\n",
            "The test point actually has label: 'True'\n"
          ],
          "name": "stdout"
        }
      ]
    },
    {
      "cell_type": "markdown",
      "metadata": {
        "id": "WqmZV213fzxH",
        "colab_type": "text"
      },
      "source": [
        "**Exercise 0**: What is the problem with finding the distance like this? (hint, think about how much MUAC and z-scores change). How can we adjust the data to avoid this problem? Hint: Plotting them against each other might help you see the problem, which we'll do later (exercise 7)."
      ]
    },
    {
      "cell_type": "code",
      "metadata": {
        "id": "HyDzOh8ufzxJ",
        "colab_type": "code",
        "colab": {
          "base_uri": "https://localhost:8080/",
          "height": 53
        },
        "outputId": "21ed6892-1f60-4c0d-842b-86e6564abf93"
      },
      "source": [
        "# The problem can be illustrated by looking at the standard deviation of the two variables\n",
        "print(\"The MUAC standard deviation is:  %5.1fcm\" % np.std(muac))\n",
        "print(\"The zscore standard deviation is %5.1f\" % np.std(zscore))\n",
        "#the problem is that most of the distance is caused by the MUAC differences, effectively ignoring\n",
        "#the zscore.\n",
        "\n",
        "#A possible solution is to normalise the data (divide by its standard deviation)...\n",
        "#...this might not help - there might be some variables that don't actually provide\n",
        "#any information - which ideally shouldn't contribute to the distance at all."
      ],
      "execution_count": null,
      "outputs": [
        {
          "output_type": "stream",
          "text": [
            "The MUAC standard deviation is:   13.0cm\n",
            "The zscore standard deviation is   0.9\n"
          ],
          "name": "stdout"
        }
      ]
    },
    {
      "cell_type": "markdown",
      "metadata": {
        "id": "4Mn8e7KyfzxU",
        "colab_type": "text"
      },
      "source": [
        "We'll be revisiting this dataset later, but we now turn to the 'digits' dataset and scikit learn."
      ]
    },
    {
      "cell_type": "markdown",
      "metadata": {
        "id": "fDh7kE6lfzxW",
        "colab_type": "text"
      },
      "source": [
        "# Classification with Scikit Learn\n",
        "\n",
        "## The Digit Dataset\n",
        "\n",
        "For these classification examples we will be using scikit-learn, a toolkit for python that contains lots of methods for solving machine learning problems.\n",
        "\n",
        "It also contains some datasets we can try out. For this exercise we'll use the 'digit' dataset. This is a set of 1797 pictures of hand-drawn digits (0,1,2,3,4,5,6,7,8,9). The challenge is whether we can get the computer to learn what the digits look like, using a training set of images, and then test the computer on a test-set of images.\n",
        "\n",
        "Run the code below to load the digits dataset."
      ]
    },
    {
      "cell_type": "code",
      "metadata": {
        "id": "aP-PhE0CfzxX",
        "colab_type": "code",
        "colab": {}
      },
      "source": [
        "digits = datasets.load_digits() #load the digits into the variable 'digits'"
      ],
      "execution_count": null,
      "outputs": []
    },
    {
      "cell_type": "markdown",
      "metadata": {
        "id": "m_lQ3wG_fzxe",
        "colab_type": "text"
      },
      "source": [
        "To get an idea of the data we are going to be classifying we'll ask what shape the 'data' matrix is:"
      ]
    },
    {
      "cell_type": "code",
      "metadata": {
        "id": "Uj0VtHsXfzxg",
        "colab_type": "code",
        "colab": {
          "base_uri": "https://localhost:8080/",
          "height": 35
        },
        "outputId": "fb75aba9-cf81-425e-e7b5-bab57e64acd8"
      },
      "source": [
        "digits.data.shape"
      ],
      "execution_count": null,
      "outputs": [
        {
          "output_type": "execute_result",
          "data": {
            "text/plain": [
              "(1797, 64)"
            ]
          },
          "metadata": {
            "tags": []
          },
          "execution_count": 10
        }
      ]
    },
    {
      "cell_type": "markdown",
      "metadata": {
        "id": "_P97SbJffzxm",
        "colab_type": "text"
      },
      "source": [
        "This tells us that it has 1797 rows (which are the samples) and 64 columns (which are the 8x8 pixels in the data, and make up the 64 dimensions of the data set).\n",
        "\n",
        "We can have a look at just one sample. Here I'm using python's matrix 'slicing' notation. It means I want row 35 and all the columns from that row."
      ]
    },
    {
      "cell_type": "code",
      "metadata": {
        "id": "nC3LHcZDfzxo",
        "colab_type": "code",
        "colab": {
          "base_uri": "https://localhost:8080/",
          "height": 106
        },
        "outputId": "ed8ff784-eb56-4946-c6e5-90ce5cc193e1"
      },
      "source": [
        "digits.data[35,:]"
      ],
      "execution_count": null,
      "outputs": [
        {
          "output_type": "execute_result",
          "data": {
            "text/plain": [
              "array([ 0.,  3., 15.,  8.,  8.,  6.,  0.,  0.,  0.,  4., 16., 16., 16.,\n",
              "       13.,  2.,  0.,  0.,  3., 16.,  9.,  2.,  0.,  0.,  0.,  0.,  2.,\n",
              "       16., 16., 15.,  3.,  0.,  0.,  0.,  0.,  7.,  6., 12.,  9.,  0.,\n",
              "        0.,  0.,  0.,  0.,  1., 14., 10.,  0.,  0.,  0.,  0.,  5., 14.,\n",
              "       15.,  2.,  0.,  0.,  0.,  1., 15., 14.,  1.,  0.,  0.,  0.])"
            ]
          },
          "metadata": {
            "tags": []
          },
          "execution_count": 11
        }
      ]
    },
    {
      "cell_type": "markdown",
      "metadata": {
        "id": "d36EwEtTfzxv",
        "colab_type": "text"
      },
      "source": [
        "Each of these numbers is one of the pixels in the image.\n",
        "\n",
        "It's unclear what digit this image is of still.\n",
        "\n",
        "We can draw the numbers as pixels in an image to see what image this represents:"
      ]
    },
    {
      "cell_type": "code",
      "metadata": {
        "id": "Z3z__qGLfzxx",
        "colab_type": "code",
        "colab": {
          "base_uri": "https://localhost:8080/",
          "height": 293
        },
        "outputId": "e00ac1cc-1f21-4c92-debe-c5987108e2ac"
      },
      "source": [
        "#code to reshape the 64 numbers into an 8x8 matrix and then draw it\n",
        "plt.matshow(digits.data[35,:].reshape(8,8),cmap='gray') "
      ],
      "execution_count": null,
      "outputs": [
        {
          "output_type": "execute_result",
          "data": {
            "text/plain": [
              "<matplotlib.image.AxesImage at 0x7f32e14463c8>"
            ]
          },
          "metadata": {
            "tags": []
          },
          "execution_count": 12
        },
        {
          "output_type": "display_data",
          "data": {
            "image/png": "[encoded data removed]",
            "text/plain": [
              "<Figure size 288x288 with 1 Axes>"
            ]
          },
          "metadata": {
            "tags": [],
            "needs_background": "light"
          }
        }
      ]
    },
    {
      "cell_type": "markdown",
      "metadata": {
        "id": "e92-g3p4fzx4",
        "colab_type": "text"
      },
      "source": [
        "It looks like a five!\n",
        "\n",
        "**Exercise 1:** Copy the code above into the box below, and modify it to find out what digit image 72 has inside"
      ]
    },
    {
      "cell_type": "code",
      "metadata": {
        "id": "5_hQTCtBfzx5",
        "colab_type": "code",
        "colab": {
          "base_uri": "https://localhost:8080/",
          "height": 293
        },
        "outputId": "e3756508-914a-410b-9d81-5cee1eae89df"
      },
      "source": [
        " \n",
        "#Exercise 1: Your code here!\n",
        "plt.matshow(digits.data[72,:].reshape(8,8),cmap='gray') \n",
        "\n",
        "\n",
        "\n"
      ],
      "execution_count": null,
      "outputs": [
        {
          "output_type": "execute_result",
          "data": {
            "text/plain": [
              "<matplotlib.image.AxesImage at 0x7f32e1277be0>"
            ]
          },
          "metadata": {
            "tags": []
          },
          "execution_count": 13
        },
        {
          "output_type": "display_data",
          "data": {
            "image/png": "[encoded data removed]",
            "text/plain": [
              "<Figure size 288x288 with 1 Axes>"
            ]
          },
          "metadata": {
            "tags": [],
            "needs_background": "light"
          }
        }
      ]
    },
    {
      "cell_type": "markdown",
      "metadata": {
        "id": "6EEJy2wSfzx_",
        "colab_type": "text"
      },
      "source": [
        "The problem is a **supervised** learning problem, which means we need to provide labels for our data points.\n",
        "\n",
        "The labels are also in the 'digits' object. They can be accessed using 'target':"
      ]
    },
    {
      "cell_type": "code",
      "metadata": {
        "id": "MtVYph4TfzyB",
        "colab_type": "code",
        "colab": {
          "base_uri": "https://localhost:8080/",
          "height": 35
        },
        "outputId": "45e5a1d8-c8ba-454c-f72c-3f7c02609463"
      },
      "source": [
        "digits.target[35]"
      ],
      "execution_count": null,
      "outputs": [
        {
          "output_type": "execute_result",
          "data": {
            "text/plain": [
              "5"
            ]
          },
          "metadata": {
            "tags": []
          },
          "execution_count": 14
        }
      ]
    },
    {
      "cell_type": "markdown",
      "metadata": {
        "id": "_ITl9lQ6fzyQ",
        "colab_type": "text"
      },
      "source": [
        "As suspected image 35 is of the digit '5'.\n",
        "\n",
        "**Exercise 2**: What is image 72 supposed to be? Copy and alter the code above to find out."
      ]
    },
    {
      "cell_type": "code",
      "metadata": {
        "id": "NEHVTGymfzyS",
        "colab_type": "code",
        "colab": {
          "base_uri": "https://localhost:8080/",
          "height": 35
        },
        "outputId": "93459d95-0d92-40d2-d773-8274f6709164"
      },
      "source": [
        "\n",
        "#Exercise 2: Your code here!\n",
        "digits.target[72]"
      ],
      "execution_count": null,
      "outputs": [
        {
          "output_type": "execute_result",
          "data": {
            "text/plain": [
              "0"
            ]
          },
          "metadata": {
            "tags": []
          },
          "execution_count": 15
        }
      ]
    },
    {
      "cell_type": "markdown",
      "metadata": {
        "id": "FnA89YR1fzyY",
        "colab_type": "text"
      },
      "source": [
        "**Exercise 3**: How many digits are of each type in the dataset?\n",
        "\n",
        "You can plot a histogram with the following code:\n",
        "\n",
        "    plt.hist(list_of_numbers,bins=range(11))\n",
        "    \n",
        "You'll need to replace \"list_of_numbers\" with the array you want to draw the histogram of.\n",
        "\n",
        "The bins parameter tells the function where to draw the boundaries of the graph. We want them at each integer.    "
      ]
    },
    {
      "cell_type": "code",
      "metadata": {
        "id": "AB4qnmBjfzyY",
        "colab_type": "code",
        "colab": {
          "base_uri": "https://localhost:8080/",
          "height": 319
        },
        "outputId": "54c8e48c-189c-4749-f740-83c725e0c9c6"
      },
      "source": [
        "\n",
        " #Your code here\n",
        "plt.hist(digits.target,bins=range(11))"
      ],
      "execution_count": null,
      "outputs": [
        {
          "output_type": "execute_result",
          "data": {
            "text/plain": [
              "(array([178., 182., 177., 183., 181., 182., 181., 179., 174., 180.]),\n",
              " array([ 0,  1,  2,  3,  4,  5,  6,  7,  8,  9, 10]),\n",
              " <a list of 10 Patch objects>)"
            ]
          },
          "metadata": {
            "tags": []
          },
          "execution_count": 16
        },
        {
          "output_type": "display_data",
          "data": {
            "image/png": "[encoded data removed]",
            "text/plain": [
              "<Figure size 432x288 with 1 Axes>"
            ]
          },
          "metadata": {
            "tags": [],
            "needs_background": "light"
          }
        }
      ]
    },
    {
      "cell_type": "markdown",
      "metadata": {
        "id": "X8Ih10zlfzyf",
        "colab_type": "text"
      },
      "source": [
        "## Scikit Learn\n",
        "In the following we'll be using the scikit library to do the classification. We need to go through two steps: **training** (fitting) and **testing** (prediction)."
      ]
    },
    {
      "cell_type": "markdown",
      "metadata": {
        "id": "WDa7CRBgfzyh",
        "colab_type": "text"
      },
      "source": [
        "## Training\n",
        "\n",
        "First we need to pick some training data:"
      ]
    },
    {
      "cell_type": "code",
      "metadata": {
        "id": "hGNpy57Sfzyh",
        "colab_type": "code",
        "colab": {}
      },
      "source": [
        "training_data = digits.data[0:-10,:] #this means all but the last 10 rows should be put in training_data\n",
        "training_target = digits.target[0:-10] #this puts all but the last 10 elements of the labels (targets) into training_target\n",
        "\n",
        "#similarly this takes the last digit and puts that in test_data and test_target\n",
        "test_data = digits.data[-10:,:]\n",
        "test_target = digits.target[-10:]"
      ],
      "execution_count": null,
      "outputs": []
    },
    {
      "cell_type": "markdown",
      "metadata": {
        "id": "0xy2DE27fzym",
        "colab_type": "text"
      },
      "source": [
        "The training step is quite simple. Here we fit the model to the data."
      ]
    },
    {
      "cell_type": "code",
      "metadata": {
        "id": "ArIv4tg1fzyn",
        "colab_type": "code",
        "colab": {}
      },
      "source": [
        "nn = neighbors.KNeighborsClassifier(n_neighbors=1) #this is our model (with just one nearest neighbour)\n",
        "nn.fit(training_data,training_target); #fit our model to the training data"
      ],
      "execution_count": null,
      "outputs": []
    },
    {
      "cell_type": "markdown",
      "metadata": {
        "id": "_BWz6IO4fzyu",
        "colab_type": "text"
      },
      "source": [
        "We can then predict the results using the predict method"
      ]
    },
    {
      "cell_type": "code",
      "metadata": {
        "id": "f_jfCXWFfzyu",
        "colab_type": "code",
        "colab": {
          "base_uri": "https://localhost:8080/",
          "height": 35
        },
        "outputId": "c995b289-0340-4018-c16a-a6d4373ee615"
      },
      "source": [
        "nn.predict(test_data)"
      ],
      "execution_count": null,
      "outputs": [
        {
          "output_type": "execute_result",
          "data": {
            "text/plain": [
              "array([5, 4, 8, 1, 4, 9, 0, 8, 9, 8])"
            ]
          },
          "metadata": {
            "tags": []
          },
          "execution_count": 19
        }
      ]
    },
    {
      "cell_type": "markdown",
      "metadata": {
        "id": "lZIMeMTLfzyz",
        "colab_type": "text"
      },
      "source": [
        "How many of these were correct?"
      ]
    },
    {
      "cell_type": "code",
      "metadata": {
        "id": "HRmHn73Vfzy0",
        "colab_type": "code",
        "colab": {
          "base_uri": "https://localhost:8080/",
          "height": 35
        },
        "outputId": "27cbb7a9-4600-43ef-d4c0-83e8a25e75e3"
      },
      "source": [
        "test_target"
      ],
      "execution_count": null,
      "outputs": [
        {
          "output_type": "execute_result",
          "data": {
            "text/plain": [
              "array([5, 4, 8, 8, 4, 9, 0, 8, 9, 8])"
            ]
          },
          "metadata": {
            "tags": []
          },
          "execution_count": 20
        }
      ]
    },
    {
      "cell_type": "markdown",
      "metadata": {
        "id": "1j0Q6F6Tfzy5",
        "colab_type": "text"
      },
      "source": [
        "Remarkably the classifier has mostly got them correct.\n",
        "\n",
        "Below is the image that it misclassified"
      ]
    },
    {
      "cell_type": "code",
      "metadata": {
        "id": "hP1lboE1fzy7",
        "colab_type": "code",
        "colab": {
          "base_uri": "https://localhost:8080/",
          "height": 293
        },
        "outputId": "df3497fd-400e-4c65-d0dc-71e50f16e240"
      },
      "source": [
        "plt.matshow(test_data[3].reshape(8,8),cmap='gray') "
      ],
      "execution_count": null,
      "outputs": [
        {
          "output_type": "execute_result",
          "data": {
            "text/plain": [
              "<matplotlib.image.AxesImage at 0x7f32e114e400>"
            ]
          },
          "metadata": {
            "tags": []
          },
          "execution_count": 30
        },
        {
          "output_type": "display_data",
          "data": {
            "image/png": "[encoded data removed]",
            "text/plain": [
              "<Figure size 288x288 with 1 Axes>"
            ]
          },
          "metadata": {
            "tags": [],
            "needs_background": "light"
          }
        }
      ]
    },
    {
      "cell_type": "markdown",
      "metadata": {
        "id": "K-N8nO-Jfzy_",
        "colab_type": "text"
      },
      "source": [
        "**Exercise 4**: What was the image supposed to be, and what did the classifier think it was?"
      ]
    },
    {
      "cell_type": "code",
      "metadata": {
        "id": "7iQ25YTAfzzA",
        "colab_type": "code",
        "colab": {
          "base_uri": "https://localhost:8080/",
          "height": 53
        },
        "outputId": "48477c4c-0049-4f49-860d-1fc1cb63d406"
      },
      "source": [
        "#Exercise 4: Answer here\n",
        "print(\"True label: %d\" % test_target[3])\n",
        "print(\"Predicted label: %d\" % nn.predict(test_data)[3])\n",
        "#comment: The image (at least at this resolution) doesn't look like an 8 to me!\n"
      ],
      "execution_count": null,
      "outputs": [
        {
          "output_type": "stream",
          "text": [
            "True label: 8\n",
            "Predicted label: 1\n"
          ],
          "name": "stdout"
        }
      ]
    },
    {
      "cell_type": "markdown",
      "metadata": {
        "id": "w0jlhSSdfzzF",
        "colab_type": "text"
      },
      "source": [
        "## Cross-validation\n",
        "\n",
        "In the lecture I briefly mentioned leave-one-out cross-validation. The same sort of idea is called **k-fold cross-validation**. In this we split the dataset into *k* groups, and train on all but one, then test on the remaining one. Then repeat while leaving out a different group.\n",
        "\n",
        "I would recommend a quick read of the [sklearn cross-validation page](https://scikit-learn.org/stable/modules/cross_validation.html) which helps explain the reasoning behind cross-validation.\n",
        "\n",
        "\n",
        "**Exercise 5**: In the code below try different classifiers and see which one does best. Try modifying the parameters to see what effect they have (e.g. the number of neighbours). Put the cursor inside the parameter brackets (e.g. on the \"n_neighbors=1\") and press SHIFT-TAB a couple of times and a box will appear describing what the different parameters do.\n"
      ]
    },
    {
      "cell_type": "code",
      "metadata": {
        "id": "3B2ExLFwfzzJ",
        "colab_type": "code",
        "colab": {
          "base_uri": "https://localhost:8080/",
          "height": 35
        },
        "outputId": "4497e19b-d12e-4dbc-c941-4080ba0854e0"
      },
      "source": [
        "#TODO: Uncomment one of these classifiers to see how it does\n",
        "\n",
        "#clf = tree.DecisionTreeClassifier()\n",
        "#clf = ensemble.RandomForestClassifier(n_estimators=50)\n",
        "#clf = ensemble.ExtraTreesClassifier()\n",
        "#clf = neighbors.KNeighborsClassifier(n_neighbors=1)\n",
        "#clf = svm.LinearSVC(C=0.0005) #Linear Support Vector Machine classifier\n",
        "#clf = linear_model.LogisticRegression(max_iter=1000)\n",
        "clf = naive_bayes.GaussianNB()\n",
        "\n",
        "scores = cross_val_score(clf, digits.data, digits.target, cv=5)\n",
        "print(\"Accuracy: %0.2f (+/- %0.2f)\" % (scores.mean(), scores.std() * 2))\n"
      ],
      "execution_count": null,
      "outputs": [
        {
          "output_type": "stream",
          "text": [
            "Accuracy: 0.81 (+/- 0.07)\n"
          ],
          "name": "stdout"
        }
      ]
    },
    {
      "cell_type": "markdown",
      "metadata": {
        "id": "hGtxK78efzzP",
        "colab_type": "text"
      },
      "source": [
        "The nearest neighbour classifier did particularly well on the digits dataset. \n",
        "\n",
        "### Breast Cancer Dataset\n",
        "\n",
        "This is the wisconsin Breast Cancer dataset. It contains measurements of different cells, some of which are cancerous and some of which are not. It's been organised in the same way as before, with bc.data containing a matrix, each row is a cell, each column a feature."
      ]
    },
    {
      "cell_type": "code",
      "metadata": {
        "id": "80DnTbdifzzQ",
        "colab_type": "code",
        "colab": {
          "base_uri": "https://localhost:8080/",
          "height": 106
        },
        "outputId": "96bb41bf-2a34-4e25-83c7-d4d88260e6f9"
      },
      "source": [
        "bc = datasets.load_breast_cancer()\n",
        "\n",
        "bc.data[4,:] #data from row number four."
      ],
      "execution_count": null,
      "outputs": [
        {
          "output_type": "execute_result",
          "data": {
            "text/plain": [
              "array([2.029e+01, 1.434e+01, 1.351e+02, 1.297e+03, 1.003e-01, 1.328e-01,\n",
              "       1.980e-01, 1.043e-01, 1.809e-01, 5.883e-02, 7.572e-01, 7.813e-01,\n",
              "       5.438e+00, 9.444e+01, 1.149e-02, 2.461e-02, 5.688e-02, 1.885e-02,\n",
              "       1.756e-02, 5.115e-03, 2.254e+01, 1.667e+01, 1.522e+02, 1.575e+03,\n",
              "       1.374e-01, 2.050e-01, 4.000e-01, 1.625e-01, 2.364e-01, 7.678e-02])"
            ]
          },
          "metadata": {
            "tags": []
          },
          "execution_count": 34
        }
      ]
    },
    {
      "cell_type": "markdown",
      "metadata": {
        "id": "RKGP5Z4DfzzV",
        "colab_type": "text"
      },
      "source": [
        "You can find out more by running this code:"
      ]
    },
    {
      "cell_type": "code",
      "metadata": {
        "id": "yX3m_P1BfzzW",
        "colab_type": "code",
        "colab": {
          "base_uri": "https://localhost:8080/",
          "height": 1000
        },
        "outputId": "f97d50aa-5423-41cb-f544-fb0f2742cebb"
      },
      "source": [
        "print(bc['DESCR']) #uncomment and run to print a description of the dataset"
      ],
      "execution_count": null,
      "outputs": [
        {
          "output_type": "stream",
          "text": [
            ".. _breast_cancer_dataset:\n",
            "\n",
            "Breast cancer wisconsin (diagnostic) dataset\n",
            "--------------------------------------------\n",
            "\n",
            "**Data Set Characteristics:**\n",
            "\n",
            "    :Number of Instances: 569\n",
            "\n",
            "    :Number of Attributes: 30 numeric, predictive attributes and the class\n",
            "\n",
            "    :Attribute Information:\n",
            "        - radius (mean of distances from center to points on the perimeter)\n",
            "        - texture (standard deviation of gray-scale values)\n",
            "        - perimeter\n",
            "        - area\n",
            "        - smoothness (local variation in radius lengths)\n",
            "        - compactness (perimeter^2 / area - 1.0)\n",
            "        - concavity (severity of concave portions of the contour)\n",
            "        - concave points (number of concave portions of the contour)\n",
            "        - symmetry \n",
            "        - fractal dimension (\"coastline approximation\" - 1)\n",
            "\n",
            "        The mean, standard error, and \"worst\" or largest (mean of the three\n",
            "        largest values) of these features were computed for each image,\n",
            "        resulting in 30 features.  For instance, field 3 is Mean Radius, field\n",
            "        13 is Radius SE, field 23 is Worst Radius.\n",
            "\n",
            "        - class:\n",
            "                - WDBC-Malignant\n",
            "                - WDBC-Benign\n",
            "\n",
            "    :Summary Statistics:\n",
            "\n",
            "    ===================================== ====== ======\n",
            "                                           Min    Max\n",
            "    ===================================== ====== ======\n",
            "    radius (mean):                        6.981  28.11\n",
            "    texture (mean):                       9.71   39.28\n",
            "    perimeter (mean):                     43.79  188.5\n",
            "    area (mean):                          143.5  2501.0\n",
            "    smoothness (mean):                    0.053  0.163\n",
            "    compactness (mean):                   0.019  0.345\n",
            "    concavity (mean):                     0.0    0.427\n",
            "    concave points (mean):                0.0    0.201\n",
            "    symmetry (mean):                      0.106  0.304\n",
            "    fractal dimension (mean):             0.05   0.097\n",
            "    radius (standard error):              0.112  2.873\n",
            "    texture (standard error):             0.36   4.885\n",
            "    perimeter (standard error):           0.757  21.98\n",
            "    area (standard error):                6.802  542.2\n",
            "    smoothness (standard error):          0.002  0.031\n",
            "    compactness (standard error):         0.002  0.135\n",
            "    concavity (standard error):           0.0    0.396\n",
            "    concave points (standard error):      0.0    0.053\n",
            "    symmetry (standard error):            0.008  0.079\n",
            "    fractal dimension (standard error):   0.001  0.03\n",
            "    radius (worst):                       7.93   36.04\n",
            "    texture (worst):                      12.02  49.54\n",
            "    perimeter (worst):                    50.41  251.2\n",
            "    area (worst):                         185.2  4254.0\n",
            "    smoothness (worst):                   0.071  0.223\n",
            "    compactness (worst):                  0.027  1.058\n",
            "    concavity (worst):                    0.0    1.252\n",
            "    concave points (worst):               0.0    0.291\n",
            "    symmetry (worst):                     0.156  0.664\n",
            "    fractal dimension (worst):            0.055  0.208\n",
            "    ===================================== ====== ======\n",
            "\n",
            "    :Missing Attribute Values: None\n",
            "\n",
            "    :Class Distribution: 212 - Malignant, 357 - Benign\n",
            "\n",
            "    :Creator:  Dr. William H. Wolberg, W. Nick Street, Olvi L. Mangasarian\n",
            "\n",
            "    :Donor: Nick Street\n",
            "\n",
            "    :Date: November, 1995\n",
            "\n",
            "This is a copy of UCI ML Breast Cancer Wisconsin (Diagnostic) datasets.\n",
            "https://goo.gl/U2Uwz2\n",
            "\n",
            "Features are computed from a digitized image of a fine needle\n",
            "aspirate (FNA) of a breast mass.  They describe\n",
            "characteristics of the cell nuclei present in the image.\n",
            "\n",
            "Separating plane described above was obtained using\n",
            "Multisurface Method-Tree (MSM-T) [K. P. Bennett, \"Decision Tree\n",
            "Construction Via Linear Programming.\" Proceedings of the 4th\n",
            "Midwest Artificial Intelligence and Cognitive Science Society,\n",
            "pp. 97-101, 1992], a classification method which uses linear\n",
            "programming to construct a decision tree.  Relevant features\n",
            "were selected using an exhaustive search in the space of 1-4\n",
            "features and 1-3 separating planes.\n",
            "\n",
            "The actual linear program used to obtain the separating plane\n",
            "in the 3-dimensional space is that described in:\n",
            "[K. P. Bennett and O. L. Mangasarian: \"Robust Linear\n",
            "Programming Discrimination of Two Linearly Inseparable Sets\",\n",
            "Optimization Methods and Software 1, 1992, 23-34].\n",
            "\n",
            "This database is also available through the UW CS ftp server:\n",
            "\n",
            "ftp ftp.cs.wisc.edu\n",
            "cd math-prog/cpo-dataset/machine-learn/WDBC/\n",
            "\n",
            ".. topic:: References\n",
            "\n",
            "   - W.N. Street, W.H. Wolberg and O.L. Mangasarian. Nuclear feature extraction \n",
            "     for breast tumor diagnosis. IS&T/SPIE 1993 International Symposium on \n",
            "     Electronic Imaging: Science and Technology, volume 1905, pages 861-870,\n",
            "     San Jose, CA, 1993.\n",
            "   - O.L. Mangasarian, W.N. Street and W.H. Wolberg. Breast cancer diagnosis and \n",
            "     prognosis via linear programming. Operations Research, 43(4), pages 570-577, \n",
            "     July-August 1995.\n",
            "   - W.H. Wolberg, W.N. Street, and O.L. Mangasarian. Machine learning techniques\n",
            "     to diagnose breast cancer from fine-needle aspirates. Cancer Letters 77 (1994) \n",
            "     163-171.\n"
          ],
          "name": "stdout"
        }
      ]
    },
    {
      "cell_type": "markdown",
      "metadata": {
        "id": "idc0E6YDfzzb",
        "colab_type": "text"
      },
      "source": [
        "**Exercise 6:** Quickly try out different classifiers for the breast cancer dataset. Do the same ones do as well? If not, why not?"
      ]
    },
    {
      "cell_type": "code",
      "metadata": {
        "id": "MCoTZa3Xfzzd",
        "colab_type": "code",
        "colab": {
          "base_uri": "https://localhost:8080/",
          "height": 35
        },
        "outputId": "18c86ba4-005d-42fa-9b64-020c07be1392"
      },
      "source": [
        "#TODO: Uncomment one of these classifiers to see how it does\n",
        "#clf = tree.DecisionTreeClassifier()\n",
        "#clf = ensemble.RandomForestClassifier(n_estimators=50)\n",
        "#clf = ensemble.ExtraTreesClassifier()\n",
        "#clf = neighbors.KNeighborsClassifier(n_neighbors=1)\n",
        "#clf = svm.LinearSVC(C=0.0005) #Linear Support Vector Machine classifier\n",
        "#clf = linear_model.LogisticRegression(max_iter=1000)\n",
        "clf = naive_bayes.GaussianNB()\n",
        "\n",
        "scores = cross_val_score(clf, bc.data, bc.target, cv=5)\n",
        "\n",
        "print(\"Accuracy: %0.2f (+/- %0.2f)\" % (scores.mean(), scores.std() * 2))\n",
        "#print(\"Total: %d of %d correct (%0.2f%%)\" % (tally_correct, tally_total, 100.0*tally_correct/tally_total))"
      ],
      "execution_count": null,
      "outputs": [
        {
          "output_type": "stream",
          "text": [
            "Accuracy: 0.94 (+/- 0.03)\n"
          ],
          "name": "stdout"
        }
      ]
    },
    {
      "cell_type": "markdown",
      "metadata": {
        "id": "VawOHDYcfzzg",
        "colab_type": "text"
      },
      "source": [
        "## The Nutrition (simulated) Dataset and Munging Data\n",
        "\n",
        "We often don't have data in quite the tidy format the above examples were in.\n",
        "\n",
        "As a reminder we want to guess whether a child will be ok as an outpatient or not, based on their MUAC and ZSCORE. outpatient is False if they need to be kept in and treated as an inpatient."
      ]
    },
    {
      "cell_type": "markdown",
      "metadata": {
        "id": "o0UslYmRfzzi",
        "colab_type": "text"
      },
      "source": [
        "**Exercise 7**: Plot the zscores against the MUAC values\n",
        "\n",
        "**Hint:** The command you want to use is:\n",
        "\n",
        "    plt.scatter(A,B,marker='x',c='r')\n",
        "    \n",
        "where A and B are the two lists you want to plot (so you'll need to replace them). The marker parameter is optional and lets you choose the symbol in your plot. The 'c' parameter lets you choose the colour.\n",
        "\n",
        "**Extra:** You'll notice the axes are different scales (the zscores vary less than the MUAC values). To get a better idea about this, we can ask python to plot them with equal scales. After your plot command, use this command to make them equal:\n",
        "\n",
        "    plt.axis('equal')"
      ]
    },
    {
      "cell_type": "code",
      "metadata": {
        "id": "hOJSw82bfzzj",
        "colab_type": "code",
        "colab": {
          "base_uri": "https://localhost:8080/",
          "height": 388
        },
        "outputId": "46d31d1d-6a94-4945-ef6b-22ffdc03df5b"
      },
      "source": [
        "#We actually had this code at the top of the notebook already\n",
        "plt.figure(figsize=[8,6])\n",
        "plt.scatter(zscore,muac,20,'b',label=\"Outpatient\")\n",
        "plt.xlabel('Z score')\n",
        "plt.ylabel('MUAC / cm')\n",
        "plt.legend();"
      ],
      "execution_count": null,
      "outputs": [
        {
          "output_type": "display_data",
          "data": {
            "image/png": "[encoded data removed]",
            "text/plain": [
              "<Figure size 576x432 with 1 Axes>"
            ]
          },
          "metadata": {
            "tags": [],
            "needs_background": "light"
          }
        }
      ]
    },
    {
      "cell_type": "markdown",
      "metadata": {
        "id": "CK3jWMcvfzzo",
        "colab_type": "text"
      },
      "source": [
        "**Exercise 8**: Can we plot the two classes in different colours?\n",
        "\n",
        "Hint #1: First just try plotting the 'outpatient' children. You can get a smaller list, that just contains the ok children by selecting just the items from the lists where ok is True. This can be done with:\n",
        "\n",
        "    zscore[outpatient]\n",
        "    \n",
        "Hint #2: To list the inpatient children you can use the not-operator \"~\":\n",
        "\n",
        "    zscore[~outpatient]\n",
        "    \n",
        "Hint #3: To plot both outpatient and inpatient children, just call the scatter function twice (one after the other)"
      ]
    },
    {
      "cell_type": "code",
      "metadata": {
        "id": "j80gr2uSfzzp",
        "colab_type": "code",
        "colab": {
          "base_uri": "https://localhost:8080/",
          "height": 388
        },
        "outputId": "5056e873-577a-4e53-b579-3b9909ee70d7"
      },
      "source": [
        " #Your code here\n",
        "plt.figure(figsize=[8,6])\n",
        "plt.scatter(zscore[outpatient],muac[outpatient],20,'b',label=\"Outpatient\")\n",
        "plt.scatter(zscore[~outpatient],muac[~outpatient],20,'g',label=\"Inpatient\")\n",
        "plt.xlabel('Z score')\n",
        "plt.ylabel('MUAC / cm')\n",
        "plt.legend();"
      ],
      "execution_count": null,
      "outputs": [
        {
          "output_type": "display_data",
          "data": {
            "image/png": "[encoded data removed]",
            "text/plain": [
              "<Figure size 576x432 with 1 Axes>"
            ]
          },
          "metadata": {
            "tags": [],
            "needs_background": "light"
          }
        }
      ]
    },
    {
      "cell_type": "markdown",
      "metadata": {
        "id": "oVJretgYfzzs",
        "colab_type": "text"
      },
      "source": [
        "Finally we want to try classifying the data. First we need to get it into the matrix form that we used earlier in the notebook.\n",
        "\n",
        "We need two matrices, one called 'data' and one called 'target'.\n",
        "\n",
        "'data' should be a matrix with 48 rows (for the 48 children) and two columns (for the two types of data: zscore and muac). We can combine matrices like this using numpy's vstack command.\n",
        "\n",
        "Here I've provided the code to do that for you. Much of doing data science is really about getting your data prepared into the right format and quality. The actually machine learning itself is often quite a small part of your work."
      ]
    },
    {
      "cell_type": "code",
      "metadata": {
        "id": "M0J_Au7xfzzt",
        "colab_type": "code",
        "colab": {}
      },
      "source": [
        "data = np.vstack([zscore,muac]).T #Here I combine the zscores and MUAC. # <<< Modify for exercise 9\n",
        "target = np.array([1 if k else 0 for k in outpatient])"
      ],
      "execution_count": null,
      "outputs": []
    },
    {
      "cell_type": "markdown",
      "metadata": {
        "id": "KFhGa5nEfzzx",
        "colab_type": "text"
      },
      "source": [
        "We can ask for the shape of the data matrix, so we can confirm we've got it in the correct shape: We have 48 children, and each one has two measurements."
      ]
    },
    {
      "cell_type": "code",
      "metadata": {
        "id": "Yu7jbz07fzzy",
        "colab_type": "code",
        "colab": {
          "base_uri": "https://localhost:8080/",
          "height": 35
        },
        "outputId": "ecc55a57-bede-4124-c706-fbe5be930d51"
      },
      "source": [
        "data.shape"
      ],
      "execution_count": null,
      "outputs": [
        {
          "output_type": "execute_result",
          "data": {
            "text/plain": [
              "(200, 2)"
            ]
          },
          "metadata": {
            "tags": []
          },
          "execution_count": 41
        }
      ]
    },
    {
      "cell_type": "code",
      "metadata": {
        "id": "l3o_Q_U6fzz2",
        "colab_type": "code",
        "colab": {
          "base_uri": "https://localhost:8080/",
          "height": 35
        },
        "outputId": "aace83b1-2b2e-4d06-dacb-48ddb216c388"
      },
      "source": [
        "#TODO: Uncomment one of these classifiers to see how it does\n",
        "#clf = tree.DecisionTreeClassifier()\n",
        "#clf = ensemble.RandomForestClassifier(n_estimators=50)\n",
        "#clf = ensemble.ExtraTreesClassifier()\n",
        "#clf = neighbors.KNeighborsClassifier(n_neighbors=1)\n",
        "#clf = svm.LinearSVC(C=0.005) #Linear Support Vector Machine classifier\n",
        "clf = linear_model.LogisticRegression(max_iter=1000)\n",
        "\n",
        "#clf = naive_bayes.GaussianNB()\n",
        "\n",
        "scores = cross_val_score(clf, data,target, cv=5)\n",
        "\n",
        "print(\"Accuracy: %0.2f (+/- %0.2f)\" % (scores.mean(), scores.std() * 2))"
      ],
      "execution_count": null,
      "outputs": [
        {
          "output_type": "stream",
          "text": [
            "Accuracy: 0.69 (+/- 0.13)\n"
          ],
          "name": "stdout"
        }
      ]
    },
    {
      "cell_type": "markdown",
      "metadata": {
        "id": "8Jz8C03Jfzz6",
        "colab_type": "text"
      },
      "source": [
        "We have also been given data about whether the child has a cough. Can we make use of this additional data to improve our predictions?\n",
        "\n",
        "The variable is called 'cough':"
      ]
    },
    {
      "cell_type": "code",
      "metadata": {
        "id": "sPDsNjRqfzz7",
        "colab_type": "code",
        "colab": {
          "base_uri": "https://localhost:8080/",
          "height": 35
        },
        "outputId": "5576fc1a-e5e6-4f2b-9cfc-82065a2a9ee0"
      },
      "source": [
        "cough[0:6]"
      ],
      "execution_count": null,
      "outputs": [
        {
          "output_type": "execute_result",
          "data": {
            "text/plain": [
              "array([False,  True,  True, False,  True,  True])"
            ]
          },
          "metadata": {
            "tags": []
          },
          "execution_count": 43
        }
      ]
    },
    {
      "cell_type": "markdown",
      "metadata": {
        "id": "5ZJhcNDNfz0B",
        "colab_type": "text"
      },
      "source": [
        "To get a quick idea of if it's useful we can as for the confusion matrix, this counts the number of times both are true, one is true and one is false, vis-versa and when they are both false."
      ]
    },
    {
      "cell_type": "code",
      "metadata": {
        "id": "n0-kSj-yfz0B",
        "colab_type": "code",
        "colab": {
          "base_uri": "https://localhost:8080/",
          "height": 53
        },
        "outputId": "231d6b45-e023-4902-e22f-ffcd0206d22c"
      },
      "source": [
        "from sklearn.metrics import confusion_matrix\n",
        "confusion_matrix(outpatient,cough)"
      ],
      "execution_count": null,
      "outputs": [
        {
          "output_type": "execute_result",
          "data": {
            "text/plain": [
              "array([[45, 70],\n",
              "       [77,  8]])"
            ]
          },
          "metadata": {
            "tags": []
          },
          "execution_count": 44
        }
      ]
    },
    {
      "cell_type": "markdown",
      "metadata": {
        "id": "v9hXjsp9fz0F",
        "colab_type": "text"
      },
      "source": [
        "The top row is the number of children that are outpatients help who have a cough (or not).\n",
        "The bottom row is the number of children who need to be inpatients who have a cough (or not).\n",
        "\n",
        "Over half the outpatient children don't have a cough, while about only 10% of the inpatient children don't have a cough.\n",
        "\n",
        "Clearly this variable will be very useful in our prediction."
      ]
    },
    {
      "cell_type": "markdown",
      "metadata": {
        "id": "StqPscbQfz0G",
        "colab_type": "text"
      },
      "source": [
        "**Exercise 9**: Modify the code above to include this extra variable. There is a hint in an earlier comment to help!"
      ]
    },
    {
      "cell_type": "code",
      "metadata": {
        "id": "AcHw5Uscfz0G",
        "colab_type": "code",
        "colab": {
          "base_uri": "https://localhost:8080/",
          "height": 35
        },
        "outputId": "017807c8-556c-48b2-fd79-67aa363702ac"
      },
      "source": [
        "\n",
        " #Modify code above\n",
        "\n",
        "data = np.vstack([zscore,muac,cough]).T #Here I combine the zscores and MUAC. # <<< Modify for exercise 9\n",
        "target = np.array([1 if k else 0 for k in outpatient])\n",
        "#TODO: Uncomment one of these classifiers to see how it does\n",
        "#clf = tree.DecisionTreeClassifier()\n",
        "#clf = ensemble.RandomForestClassifier(n_estimators=50)\n",
        "#clf = ensemble.ExtraTreesClassifier()\n",
        "#clf = neighbors.KNeighborsClassifier(n_neighbors=1)\n",
        "#clf = svm.LinearSVC(C=0.005) #Linear Support Vector Machine classifier\n",
        "clf = linear_model.LogisticRegression(max_iter=1000)\n",
        "\n",
        "#clf = naive_bayes.GaussianNB()\n",
        "\n",
        "scores = cross_val_score(clf, data,target, cv=5)\n",
        "\n",
        "print(\"Accuracy: %0.2f (+/- %0.2f)\" % (scores.mean(), scores.std() * 2))"
      ],
      "execution_count": null,
      "outputs": [
        {
          "output_type": "stream",
          "text": [
            "Accuracy: 0.96 (+/- 0.04)\n"
          ],
          "name": "stdout"
        }
      ]
    },
    {
      "cell_type": "markdown",
      "metadata": {
        "id": "Nm5l5yWDfz0K",
        "colab_type": "text"
      },
      "source": [
        "**Bonus Exercise**: Look at the other datasets in sklearn, and try out other classifiers on them. What datasets do you know of or have access to which might need classification?\n",
        "\n",
        "**Double Bonus Exercise**: Modify the classifier code above so that it tries different values of the neighbours parameter automatically, and returns the best value of that parameter.\n",
        "\n",
        "**Quick Quiz**\n",
        "\n",
        "How can we avoid 'cheating' when we fit (or 'train') our model?\n",
        "\n",
        "Name two types of classifier.\n",
        "\n",
        "What is overfitting?\n",
        "\n",
        "Name some features of a dataset which make one classifier work better than another?\n",
        "\n",
        "What is the difference between supervised and unsupervised learning?"
      ]
    },
    {
      "cell_type": "markdown",
      "metadata": {
        "id": "E_jtsjeMfz0K",
        "colab_type": "text"
      },
      "source": [
        "**Reminder**: The MUAC/zscore/cough data is *simulated*, but these decisions are real decisions. However, they are also heavily based on other clinical assessments of the child's health (including the precence of edema, HIV status, TB status, diarrhea, general overall wellness, etc)."
      ]
    },
    {
      "cell_type": "code",
      "metadata": {
        "id": "lwvB5o5kfz0L",
        "colab_type": "code",
        "colab": {}
      },
      "source": [
        ""
      ],
      "execution_count": null,
      "outputs": []
    }
  ]
}